{
 "cells": [
  {
   "cell_type": "markdown",
   "id": "f1ae9da3-c81f-4ab1-8231-b8da9cb55f2b",
   "metadata": {
    "tags": []
   },
   "source": [
    "# Data Science Tools and Ecosystem"
   ]
  },
  {
   "cell_type": "markdown",
   "id": "7236aa4d-bdc1-4504-8946-a8bc6e087841",
   "metadata": {
    "tags": []
   },
   "source": [
    "In this notebook, Data Science Tools and Ecosystem are summarized."
   ]
  },
  {
   "cell_type": "markdown",
   "id": "8a1e2548-742a-49c6-b5ad-4cc269a53bcf",
   "metadata": {
    "jp-MarkdownHeadingCollapsed": true,
    "tags": []
   },
   "source": [
    "Some of the popular languages that Data Scientists use are:\n",
    "1. Python\n",
    "2. R\n",
    "3. C++"
   ]
  },
  {
   "cell_type": "markdown",
   "id": "191a45e7-fef0-4c78-8c12-1d9ea9b14cb8",
   "metadata": {
    "tags": []
   },
   "source": [
    "Some of the commonly used libraries used by Data Scientists include:\n",
    "1. NumPy\n",
    "2. Pandas\n",
    "3. SciKit-Learn"
   ]
  },
  {
   "cell_type": "markdown",
   "id": "119a4bf9-cf51-4b02-922c-ab6e858ecc5e",
   "metadata": {
    "tags": []
   },
   "source": [
    "| Data Science Tools |\n",
    "| ------------------ | \n",
    "| MySQL              |\n",
    "| PostgreSQL         |\n",
    "| Jupyter            |"
   ]
  },
  {
   "cell_type": "markdown",
   "id": "aa93820a-c87d-49fe-9527-a3bfdf4ec871",
   "metadata": {},
   "source": [
    "### Bellow are a few examples of evaluating arithmetic expressions in Python"
   ]
  },
  {
   "cell_type": "code",
   "execution_count": null,
   "id": "0c9c34b7-e6f9-479b-a8e9-83e0650c8b8f",
   "metadata": {
    "tags": []
   },
   "outputs": [],
   "source": [
    "# This a simple arithmetic expression to mutiply then add integers.\n",
    "(3*4)+5"
   ]
  },
  {
   "cell_type": "code",
   "execution_count": null,
   "id": "2dcb8f54-d231-4758-9c0c-bee8f4743551",
   "metadata": {},
   "outputs": [],
   "source": [
    "# This will convert 200 minutes to hours by diving by 60.\n",
    "200/60"
   ]
  },
  {
   "cell_type": "markdown",
   "id": "8f4b7bd9-74a6-4523-b326-7f7935aed6d0",
   "metadata": {
    "tags": []
   },
   "source": [
    "**Objectives:** \n",
    "--\n",
    "List popular languages for Data\n",
    "* Python\n",
    "* R\n",
    "* Java\n",
    "* Scala\n",
    "* C++"
   ]
  },
  {
   "cell_type": "markdown",
   "id": "6174b301-0b8c-4c42-93ef-4549f00022e7",
   "metadata": {
    "tags": []
   },
   "source": [
    "## Author\n",
    "Kimosng SAO"
   ]
  }
 ],
 "metadata": {
  "kernelspec": {
   "display_name": "Python",
   "language": "python",
   "name": "conda-env-python-py"
  },
  "language_info": {
   "codemirror_mode": {
    "name": "ipython",
    "version": 3
   },
   "file_extension": ".py",
   "mimetype": "text/x-python",
   "name": "python",
   "nbconvert_exporter": "python",
   "pygments_lexer": "ipython3",
   "version": "3.7.12"
  }
 },
 "nbformat": 4,
 "nbformat_minor": 5
}
